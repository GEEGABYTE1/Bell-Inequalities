{
 "cells": [
  {
   "cell_type": "code",
   "execution_count": 1,
   "metadata": {},
   "outputs": [],
   "source": [
    "from qiskit import QuantumRegister, QuantumCircuit, ClassicalRegister"
   ]
  },
  {
   "cell_type": "code",
   "execution_count": 8,
   "metadata": {},
   "outputs": [
    {
     "name": "stdout",
     "output_type": "stream",
     "text": [
      "Qubit(QuantumRegister(2, 'q6'), 0)\n",
      "Qubit(QuantumRegister(2, 'q6'), 1)\n",
      "\n",
      "\n",
      "Classical\n",
      "Clbit(ClassicalRegister(2, 'c1'), 0)\n",
      "Clbit(ClassicalRegister(2, 'c1'), 1)\n",
      "------------------------\n",
      "(Qubit(QuantumRegister(2, 'q6'), 0), Qubit(QuantumRegister(2, 'q6'), 1), Clbit(ClassicalRegister(2, 'c1'), 0), Clbit(ClassicalRegister(2, 'c1'), 1), <qiskit.circuit.quantumcircuit.QuantumCircuit object at 0x12fcf6d60>)\n"
     ]
    }
   ],
   "source": [
    "def initialize_program():\n",
    "    qubit = QuantumRegister(2)\n",
    "    A = qubit[0]\n",
    "    B = qubit[1]\n",
    "    print(A)\n",
    "    print(B)\n",
    "    print('\\n')\n",
    "\n",
    "    bit = ClassicalRegister(2)\n",
    "    a = bit[0]\n",
    "    b = bit[1]\n",
    "\n",
    "    print('Classical')\n",
    "    print(a)\n",
    "    print(b)\n",
    "    print('-'*24)\n",
    "\n",
    "    qc = QuantumCircuit(qubit, bit)\n",
    "    return A,B, a, b, qc \n",
    "\n",
    "print(initialize_program())\n"
   ]
  },
  {
   "cell_type": "code",
   "execution_count": 11,
   "metadata": {},
   "outputs": [],
   "source": [
    "def hash_bit(variable, hash_type, bit, qc):\n",
    "    if hash_type == 'h':\n",
    "        qc.x(variable)\n",
    "    qc.measure(variable, bit)"
   ]
  },
  {
   "cell_type": "code",
   "execution_count": 10,
   "metadata": {},
   "outputs": [],
   "source": [
    "from hello_qiskit import run_puzzle \n",
    "import numpy as np\n",
    "puzzle = run_puzzle(12)\n",
    "\n",
    "def setup_vars(A, B, qc):\n",
    "    for line in puzzle.program:\n",
    "        eval(line)\n",
    "\n",
    "\n",
    "    \n",
    "\n",
    "shots = 8192 "
   ]
  },
  {
   "cell_type": "code",
   "execution_count": 12,
   "metadata": {},
   "outputs": [],
   "source": [
    "from qiskit import assemble, transpile\n",
    "def calculate_P(backend):\n",
    "    p = {}\n",
    "    program = {}\n",
    "    possibilities = ['vv', 'vh', 'hv', 'hh']\n",
    "    for hashes in possibilities:\n",
    "        A, B, a, b, program[hashes] = initialize_program()\n",
    "        setup_vars(A, b, program[hashes])\n",
    "        hash_bit(A, hashes[0], a, program[hashes])\n",
    "        hash_bit(B, hashes[1], b, program[hashes])\n",
    "\n",
    "        t_qes = transpile(list(program.values()),backend)\n",
    "        qobj = assemble(t_qes, shots=shots)\n",
    "        job = backend.run(qobj)\n",
    "        \n",
    "        for hashes in possibilities:\n",
    "            stats = job.result().get_counts(program[hashes])\n",
    "            p[hashes] = 0 \n",
    "            for string in stats.keys():\n",
    "                a = string[-1]\n",
    "                b = string[-2]\n",
    "\n",
    "                if a != b:\n",
    "                    p[hashes] += stats[string]/shots \n",
    "    \n",
    "    return p \n"
   ]
  },
  {
   "cell_type": "code",
   "execution_count": null,
   "metadata": {},
   "outputs": [],
   "source": [
    "puzzle.program \n",
    "from qiskit import Aer \n",
    "def bell_test(p):\n",
    "    sum_p = sum(p.values())\n",
    "    for hashes in p:\n",
    "        bound = sum_p - p[hashes]\n",
    "        print(\"Upper Bound of {} is {bound}\".format(hashes, bound=bound))\n",
    "        print(\"Value: {}\".format(p[hashes]))\n",
    "        if p[hashes] <= bound:\n",
    "            print(\"The upper bound is obeyed\")\n",
    "        else:\n",
    "            if p[hashes] - bound < 0.1:\n",
    "                print(\"Over Upper Boundary by a little (rounding error)\")\n",
    "            else:\n",
    "                print(\"Over Upper boundary by a lot\")\n",
    "\n",
    "\n",
    "backend = Aer.get_backend('aer_simulator')\n",
    "p = calculate_P(backend)\n",
    "print(p)\n",
    "bell_test(p)\n"
   ]
  }
 ],
 "metadata": {
  "interpreter": {
   "hash": "aee8b7b246df8f9039afb4144a1f6fd8d2ca17a180786b69acc140d282b71a49"
  },
  "kernelspec": {
   "display_name": "Python 3.9.10 64-bit",
   "language": "python",
   "name": "python3"
  },
  "language_info": {
   "codemirror_mode": {
    "name": "ipython",
    "version": 3
   },
   "file_extension": ".py",
   "mimetype": "text/x-python",
   "name": "python",
   "nbconvert_exporter": "python",
   "pygments_lexer": "ipython3",
   "version": "3.9.10"
  },
  "orig_nbformat": 4
 },
 "nbformat": 4,
 "nbformat_minor": 2
}
