{
 "cells": [
  {
   "cell_type": "code",
   "execution_count": 47,
   "metadata": {},
   "outputs": [],
   "source": [
    "import random"
   ]
  },
  {
   "cell_type": "code",
   "execution_count": 48,
   "metadata": {},
   "outputs": [],
   "source": [
    "def setup_variable():\n",
    "    factor = random.randint(1, 100)\n",
    "    a = factor * (2/3)\n",
    "    b = factor * (1/3)\n",
    "    return a, b\n"
   ]
  },
  {
   "cell_type": "code",
   "execution_count": 74,
   "metadata": {},
   "outputs": [],
   "source": [
    "def hash_bit(variable, hash_type):\n",
    "    if hash_type == 'v':\n",
    "        bit = variable < 0.5\n",
    "    elif hash_type == 'h':\n",
    "        bit = variable < 0.25 \n",
    "    \n",
    "    new_bit = str(int(bit))\n",
    "    return new_bit\n",
    "   \n"
   ]
  },
  {
   "cell_type": "code",
   "execution_count": 75,
   "metadata": {},
   "outputs": [],
   "source": [
    "shots = 8192 \n",
    "\n",
    "def calculate_P():\n",
    "    p = {}\n",
    "    possibilities = ['vv', 'vh', 'hv', 'hh']\n",
    "    for hashes in possibilities:\n",
    "        p[hashes] = 0 \n",
    "        for shot in range(shots):\n",
    "            a, b = setup_variable()\n",
    "            a = hash_bit(a, hashes[0])\n",
    "            b = hash_bit(b, hashes[1])\n",
    "            p[hashes] += (a != b)/shots \n",
    "    \n",
    "    return p \n"
   ]
  },
  {
   "cell_type": "code",
   "execution_count": 79,
   "metadata": {},
   "outputs": [
    {
     "name": "stdout",
     "output_type": "stream",
     "text": [
      "{'vv': 0.0103759765625, 'vh': 0.0, 'hv': 0.009033203125, 'hh': 0.0}\n"
     ]
    }
   ],
   "source": [
    "p = calculate_P()\n",
    "print(p)"
   ]
  },
  {
   "cell_type": "code",
   "execution_count": null,
   "metadata": {},
   "outputs": [],
   "source": []
  }
 ],
 "metadata": {
  "interpreter": {
   "hash": "aee8b7b246df8f9039afb4144a1f6fd8d2ca17a180786b69acc140d282b71a49"
  },
  "kernelspec": {
   "display_name": "Python 3.9.10 64-bit",
   "language": "python",
   "name": "python3"
  },
  "language_info": {
   "codemirror_mode": {
    "name": "ipython",
    "version": 3
   },
   "file_extension": ".py",
   "mimetype": "text/x-python",
   "name": "python",
   "nbconvert_exporter": "python",
   "pygments_lexer": "ipython3",
   "version": "3.9.10"
  },
  "orig_nbformat": 4
 },
 "nbformat": 4,
 "nbformat_minor": 2
}
